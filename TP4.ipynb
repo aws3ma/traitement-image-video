{
  "nbformat": 4,
  "nbformat_minor": 0,
  "metadata": {
    "colab": {
      "provenance": [],
      "authorship_tag": "ABX9TyPTIEJilpZgtQ0XzpzTbhkp",
      "include_colab_link": true
    },
    "kernelspec": {
      "name": "python3",
      "display_name": "Python 3"
    },
    "language_info": {
      "name": "python"
    }
  },
  "cells": [
    {
      "cell_type": "markdown",
      "metadata": {
        "id": "view-in-github",
        "colab_type": "text"
      },
      "source": [
        "<a href=\"https://colab.research.google.com/github/aws3ma/traitement-image-video/blob/main/TP4.ipynb\" target=\"_parent\"><img src=\"https://colab.research.google.com/assets/colab-badge.svg\" alt=\"Open In Colab\"/></a>"
      ]
    },
    {
      "cell_type": "code",
      "execution_count": null,
      "metadata": {
        "id": "DNIKBNyXfPqQ"
      },
      "outputs": [],
      "source": [
        "import cv2 as cv"
      ]
    },
    {
      "cell_type": "code",
      "source": [
        "from google.colab import drive\n",
        "drive.mount('/content/drive',force_remount=True)\n",
        "trait_img_vid_folder='/content/drive/MyDrive/trait_img_vid/'"
      ],
      "metadata": {
        "colab": {
          "base_uri": "https://localhost:8080/"
        },
        "id": "EvYcItgbhz2F",
        "outputId": "4785c6c1-99af-4a4e-8edb-79f00e080f57"
      },
      "execution_count": null,
      "outputs": [
        {
          "output_type": "stream",
          "name": "stdout",
          "text": [
            "Mounted at /content/drive\n"
          ]
        }
      ]
    },
    {
      "cell_type": "code",
      "source": [
        "vid = cv.VideoCapture(trait_img_vid_folder+\"TP4/Cars.mp4\")"
      ],
      "metadata": {
        "id": "9GJS7x_bh9oC"
      },
      "execution_count": null,
      "outputs": []
    },
    {
      "cell_type": "code",
      "source": [
        "int(vid.get(cv.CAP_PROP_FRAME_COUNT))"
      ],
      "metadata": {
        "colab": {
          "base_uri": "https://localhost:8080/"
        },
        "id": "gRirqhO_iQGH",
        "outputId": "d3500080-2023-464b-f5f5-5e6de1831059"
      },
      "execution_count": null,
      "outputs": [
        {
          "output_type": "execute_result",
          "data": {
            "text/plain": [
              "755"
            ]
          },
          "metadata": {},
          "execution_count": 5
        }
      ]
    },
    {
      "cell_type": "code",
      "source": [
        "int(vid.get(cv.CAP_PROP_FPS))"
      ],
      "metadata": {
        "colab": {
          "base_uri": "https://localhost:8080/"
        },
        "id": "IWnYRNgMifKY",
        "outputId": "7a330094-4695-4aa2-95e7-6224be5aceec"
      },
      "execution_count": null,
      "outputs": [
        {
          "output_type": "execute_result",
          "data": {
            "text/plain": [
              "25"
            ]
          },
          "metadata": {},
          "execution_count": 6
        }
      ]
    },
    {
      "cell_type": "code",
      "source": [
        "int(cv.VideoCapture.get(vid,5))"
      ],
      "metadata": {
        "colab": {
          "base_uri": "https://localhost:8080/"
        },
        "id": "vS91y6VpilH7",
        "outputId": "f73b036e-868a-41b9-8fde-13814b7bf664"
      },
      "execution_count": null,
      "outputs": [
        {
          "output_type": "execute_result",
          "data": {
            "text/plain": [
              "25"
            ]
          },
          "metadata": {},
          "execution_count": 11
        }
      ]
    },
    {
      "cell_type": "code",
      "source": [
        "width = int(vid.get(cv.CAP_PROP_FRAME_WIDTH))"
      ],
      "metadata": {
        "id": "yfppvHjFj75w"
      },
      "execution_count": null,
      "outputs": []
    },
    {
      "cell_type": "code",
      "source": [
        "height = int(vid.get(cv.CAP_PROP_FRAME_HEIGHT))\n"
      ],
      "metadata": {
        "id": "H_QF41RfkD8O"
      },
      "execution_count": null,
      "outputs": []
    },
    {
      "cell_type": "code",
      "source": [
        "from google.colab.patches import cv2_imshow\n",
        "while(vid.isOpened()):\n",
        "  ret, frame = vid.read()\n",
        "  if ret == True:\n",
        "    cv2_imshow( frame)\n",
        "    if cv.waitKey(25) & 0xFF == ord('q'):\n",
        "      break\n",
        "    else:\n",
        "        break\n",
        "vid.release()\n",
        "cv.destroyAllWindows()"
      ],
      "metadata": {
        "id": "cQV8S0KekHoy"
      },
      "execution_count": null,
      "outputs": []
    },
    {
      "cell_type": "code",
      "source": [
        "l=[i for i in range(20,31)]\n",
        "l"
      ],
      "metadata": {
        "colab": {
          "base_uri": "https://localhost:8080/"
        },
        "id": "6bI_KiiLpocE",
        "outputId": "8b0913e6-dff1-4093-c276-c942aaf6dfbc"
      },
      "execution_count": null,
      "outputs": [
        {
          "output_type": "execute_result",
          "data": {
            "text/plain": [
              "[20, 21, 22, 23, 24, 25, 26, 27, 28, 29, 30]"
            ]
          },
          "metadata": {},
          "execution_count": 23
        }
      ]
    },
    {
      "cell_type": "code",
      "source": [
        "vid = cv.VideoCapture(trait_img_vid_folder+\"TP4/Cars.mp4\")\n",
        "frames_dict={}\n",
        "i=0\n",
        "while(vid.isOpened()):\n",
        "    ret, frame = vid.read()\n",
        "    if ret == False or i>30:\n",
        "        break\n",
        "    if(i in l):\n",
        "      frames_dict[i]=frame\n",
        "    i+=1\n",
        "for key,frame in frames_dict.items():\n",
        "  cv.imwrite(trait_img_vid_folder+\"TP4/Image/frame\"+str(key)+\".jpg\",frame)\n",
        "  print(key)\n",
        "  cv2_imshow(frame)"
      ],
      "metadata": {
        "id": "g6l-41RWkR1J"
      },
      "execution_count": null,
      "outputs": []
    },
    {
      "cell_type": "markdown",
      "source": [
        "la classe VideoWriter peut accepter cinq arguments en parametres:\n",
        "\n",
        "\n",
        "1.   filename : ou le video sera stocké\n",
        "2.   fourcc : la methode de compression des frames du video\n",
        "3.   fps : numero des frames par seconde\n",
        "4.   frameSize : la taille du video (width, height)\n",
        "5.   isColor : si on passe un zero alors la video sera grayscale, si non c'est un video RGB\n",
        "\n"
      ],
      "metadata": {
        "id": "z12Me3shyiOO"
      }
    },
    {
      "cell_type": "code",
      "source": [
        "vid = cv.VideoCapture(trait_img_vid_folder+\"TP4/Cars.mp4\")\n",
        "video_folder = trait_img_vid_folder+\"TP4/Video\"\n",
        "fps = 20\n",
        "fourcc_list = [0,cv.VideoWriter_fourcc('x', 'v', 'i', 'd'),cv.VideoWriter_fourcc('f', 'm', 'p', '4'),cv.VideoWriter_fourcc('x', '2', '6', '5'),cv.VideoWriter_fourcc('m', 'j', 'p', 'g')]\n",
        "\n"
      ],
      "metadata": {
        "id": "NTPf9QJfyuAh"
      },
      "execution_count": null,
      "outputs": []
    },
    {
      "cell_type": "code",
      "source": [
        "writer_avi = cv.VideoWriter(filename=video_folder+\"/video1_20fps.avi\",fourcc=fourcc_list[0],fps=fps,frameSize=(width,height))\n",
        "writer_avi_xvid = cv.VideoWriter(filename=video_folder+\"/video2_20fps.avi\",fourcc=fourcc_list[1],fps=fps,frameSize=(width,height))\n",
        "writer_mp4_fmp4 = cv.VideoWriter(filename=video_folder+\"/video3_20fps.mp4\",fourcc=fourcc_list[2],fps=fps,frameSize=(width,height))\n",
        "writer_avi_mjpg = cv.VideoWriter(filename=video_folder+\"/video5_20fps.avi\",fourcc=fourcc_list[4],fps=fps,frameSize=(width,height))\n",
        "writer_mp4_pim4 = cv.VideoWriter(filename=video_folder+\"/video4_20fps.mp4\",fourcc=fourcc_list[3],fps=fps,frameSize=(width,height))"
      ],
      "metadata": {
        "id": "z8R4LmX825Aq"
      },
      "execution_count": null,
      "outputs": []
    },
    {
      "cell_type": "code",
      "source": [
        "i=0\n",
        "while(vid.isOpened() and i<21):\n",
        "    i+=1\n",
        "    ret, frame = vid.read()\n",
        "    if ret == False:\n",
        "        break\n",
        "    writer_avi.write(frame)\n",
        "    writer_avi_xvid.write(frame)\n",
        "    writer_mp4_fmp4.write(frame)\n",
        "    writer_avi_mjpg.write(frame)\n",
        "    writer_mp4_pim4.write(frame)\n",
        "writer_avi.release()\n",
        "writer_avi_xvid.release()\n",
        "writer_mp4_fmp4.release()\n",
        "writer_avi_mjpg.release()\n",
        "writer_mp4_pim4.release()"
      ],
      "metadata": {
        "id": "Q5peaNLQ3V1q"
      },
      "execution_count": null,
      "outputs": []
    },
    {
      "cell_type": "markdown",
      "source": [
        "Aprés l'augmentation du nombre des FPS, la qualité du video augmente"
      ],
      "metadata": {
        "id": "_8HXJ4508dFc"
      }
    },
    {
      "cell_type": "code",
      "source": [
        "import os\n",
        "t1 = os.path.getsize(video_folder+\"/video1.avi\")/ (1024 * 1024)\n",
        "t2 = os.path.getsize(video_folder+\"/video2.avi\")/ (1024 * 1024)\n",
        "t3 = os.path.getsize(video_folder+\"/video3.mp4\")/ (1024 * 1024)\n",
        "t5 = os.path.getsize(video_folder+\"/video5.avi\")/ (1024 * 1024)\n",
        "print(\"video 1 size in MB \"+str(t1))\n",
        "print(\"video 2 size in MB \"+str(t2))\n",
        "print(\"video 3 size in MB \"+str(t3))\n",
        "# print(\"video 4 size in MB \"+str(os.path.getsize(video_folder+\"/video4.mp4\")/ (1024 * 1024)))\n",
        "print(\"video 5 size in MB \"+str(t5))\n",
        "print(\"video 1 20 fps size in MB \"+str(os.path.getsize(video_folder+\"/video1_20fps.avi\")/ (1024 * 1024)))\n",
        "print(\"video 2 20 fps size in MB \"+str(os.path.getsize(video_folder+\"/video2_20fps.avi\")/ (1024 * 1024)))\n",
        "print(\"video 3 20 fps size in MB \"+str(os.path.getsize(video_folder+\"/video3_20fps.mp4\")/ (1024 * 1024)))\n",
        "# print(\"video 4 20 fps size in MB \"+str(os.path.getsize(video_folder+\"/video44.mp4\")/ (1024 * 1024)))\n",
        "print(\"video 5 20 fps size in MB \"+str(os.path.getsize(video_folder+\"/video5_20fps.avi\")/ (1024 * 1024)))"
      ],
      "metadata": {
        "colab": {
          "base_uri": "https://localhost:8080/"
        },
        "id": "moB3GtUp5Jul",
        "outputId": "2817bbff-e5ec-4c2f-efe3-896d4a58e4fd"
      },
      "execution_count": null,
      "outputs": [
        {
          "output_type": "stream",
          "name": "stdout",
          "text": [
            "video 1 size in MB 6.927289962768555\n",
            "video 2 size in MB 0.2211151123046875\n",
            "video 3 size in MB 0.21603679656982422\n",
            "video 5 size in MB 0.3464221954345703\n",
            "video 1 20 fps size in MB 6.927289962768555\n",
            "video 2 20 fps size in MB 0.22111892700195312\n",
            "video 3 20 fps size in MB 0.21603965759277344\n",
            "video 5 20 fps size in MB 0.3464221954345703\n"
          ]
        }
      ]
    },
    {
      "cell_type": "code",
      "source": [
        "t_original = os.path.getsize(trait_img_vid_folder+\"TP4/Cars.mp4\")/ (1024 * 1024)\n",
        "print(\"Video 1 \"+str(t1/t_original))\n",
        "print(\"Video 2 \"+str(t2/t_original))\n",
        "print(\"Video 3 \"+str(t3/t_original))\n",
        "print(\"Video 5 \"+str(t5/t_original))"
      ],
      "metadata": {
        "colab": {
          "base_uri": "https://localhost:8080/"
        },
        "id": "hVeGkhSk_WWl",
        "outputId": "41423191-100d-4343-e0a8-07e0e32c76c7"
      },
      "execution_count": null,
      "outputs": [
        {
          "output_type": "stream",
          "name": "stdout",
          "text": [
            "Video 1 0.9969823392868515\n",
            "Video 2 0.03182310298861782\n",
            "Video 3 0.031092226826627666\n",
            "Video 5 0.0498574208155727\n"
          ]
        }
      ]
    },
    {
      "cell_type": "markdown",
      "source": [
        "Je remarque que la compression a dominuer la taille de la video enormement. <br/>\n",
        "Le compresseur FMP4 puis XVID puis MJPG est en fin PIM4 (H264)\n"
      ],
      "metadata": {
        "id": "EJAdTMBiBF9I"
      }
    },
    {
      "cell_type": "markdown",
      "source": [],
      "metadata": {
        "id": "LwteSDfmBAic"
      }
    }
  ]
}