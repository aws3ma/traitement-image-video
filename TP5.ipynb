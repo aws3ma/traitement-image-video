{
  "cells": [
    {
      "cell_type": "markdown",
      "metadata": {
        "id": "view-in-github",
        "colab_type": "text"
      },
      "source": [
        "<a href=\"https://colab.research.google.com/github/aws3ma/traitement-image-video/blob/main/TP5.ipynb\" target=\"_parent\"><img src=\"https://colab.research.google.com/assets/colab-badge.svg\" alt=\"Open In Colab\"/></a>"
      ]
    },
    {
      "cell_type": "markdown",
      "metadata": {
        "id": "La7iuvMDkOdz"
      },
      "source": [
        "# TP5:  Compression vidéo : Modules de prédiction. \n",
        "                                                                               Nom: Trabelsi\n",
        "                                                                               Prénom: Oussema\n",
        "                                                                               Groupe: 2IDSD 2 Groupe 2\n",
        "\n",
        "Vu que la vidéo est une donnée très volumineuse pour le stockage ainsi que pour le transfert sur réseau, la compression vidéo est une étape mondiales pour communiquer et manipuler des vidéos, surtout de grande définition ou résolution. \n",
        "\n",
        "Plusieurs standards compression vidéo ont vu le jour pour améliorer à chaque fois le débit binaire, le taux de compression tout en gardant la même qualité d'images.\n",
        "A travers les standards de compression vidéo, la chaine de codage et de décodage ont gardé la même allure. Par contre les détails des modules de la chaine de codec ont évolué d'un standard à un autre. \n",
        "Le principe du codec hybride a été toujours la base de ces standard. En effet, un codec hybride se base sur la prédiction Intra et Inter qui profite respectivement de la redondance spatiale et la redondance temporelle.\n",
        "\n",
        "Ce TP a pour but de comparer deux images d'une vidéo de test afin de détecter les redondance temporelle traitée par le module \" Inter Prédiction \" de la chaine d'encodage.\n",
        "\n",
        "Les étapes à suivre sont :"
      ]
    },
    {
      "cell_type": "code",
      "source": [
        "from google.colab import drive\n",
        "drive.mount('/content/drive',force_remount=True)\n",
        "trait_img_vid_folder='/content/drive/MyDrive/trait_img_vid/'"
      ],
      "metadata": {
        "colab": {
          "base_uri": "https://localhost:8080/"
        },
        "id": "2gOI-8Xukbv8",
        "outputId": "49a26052-e2f4-48a3-812a-a45991a6e748"
      },
      "execution_count": null,
      "outputs": [
        {
          "output_type": "stream",
          "name": "stdout",
          "text": [
            "Mounted at /content/drive\n"
          ]
        }
      ]
    },
    {
      "cell_type": "markdown",
      "metadata": {
        "id": "n5PSzA5nkOeE"
      },
      "source": [
        "\n",
        "\n",
        "## A. Lecture de video\n",
        "1- Lire la vidéo 'akiyo-cif-clip.mp4' à partir de votre répertoire de travail.\n",
        "\n",
        "2- Séparer les images de la vidéo et sauvegarder l'image 4 et 5 dans un répertoire Images sous le nom ImageRef,ImageSRC.\n",
        "\n",
        "3- comparer les deux images résultantes et interpréter.\n",
        "\n",
        "4- Afficher la difference entre les deux images.\n",
        "\n",
        "\n"
      ]
    },
    {
      "cell_type": "code",
      "execution_count": null,
      "metadata": {
        "id": "b-sLPwtvkOeI"
      },
      "outputs": [],
      "source": [
        "import cv2 as cv\n",
        "vid = cv.VideoCapture(trait_img_vid_folder+\"TP5/akiyo-cif-clip.mp4\")"
      ]
    },
    {
      "cell_type": "code",
      "source": [
        "i=0\n",
        "while(vid.isOpened()):\n",
        "    ret, frame = vid.read()\n",
        "    if ret == False or i>5:\n",
        "        break\n",
        "    if(i ==4):\n",
        "      imref=frame\n",
        "      cv.imwrite(trait_img_vid_folder+\"TP5/Images/ImageRef.jpg\",frame)\n",
        "    if(i==5):\n",
        "      imsrc=frame\n",
        "      cv.imwrite(trait_img_vid_folder+\"TP5/Images/ImageSRC.jpg\",frame)\n",
        "    i+=1"
      ],
      "metadata": {
        "id": "pWUJz7MwlZc7"
      },
      "execution_count": null,
      "outputs": []
    },
    {
      "cell_type": "code",
      "source": [
        "from google.colab.patches import cv2_imshow\n",
        "imdif=imsrc-imref\n",
        "cv2_imshow(imdif)"
      ],
      "metadata": {
        "colab": {
          "base_uri": "https://localhost:8080/",
          "height": 257
        },
        "id": "tisUmZybnbwu",
        "outputId": "d01d29cf-0d7f-4cae-aaf7-3c2af4d98586"
      },
      "execution_count": null,
      "outputs": [
        {
          "output_type": "display_data",
          "data": {
            "text/plain": [
              "<PIL.Image.Image image mode=RGB size=294x240 at 0x7F1B8F820E80>"
            ],
            "image/png": "[encoded data removed]"
          },
          "metadata": {}
        }
      ]
    },
    {
      "cell_type": "markdown",
      "source": [
        "Il y'a des petits differences entre la frame reference(4) et la frame SRC(5)"
      ],
      "metadata": {
        "id": "ICFAuOJup67k"
      }
    },
    {
      "cell_type": "markdown",
      "metadata": {
        "id": "YArzojLhkOeK"
      },
      "source": [
        "## B. Comparer les images \n",
        "\n",
        "Pour pouvoir chercher les différences entre deux images, on va faire recours à une métrique de comparaison de blocs d'images pixel par pixel. Cette métrique est la fonction SAD .\n",
        "SAD : Sum of Absolute Difference\n",
        "L’algorithme SAD calcule la différence en valeur absolue entre un bloc source (16x16 pixels) et un bloc d’une image de référence (16x16 pixels).\n",
        "Utiliser dans le traitement d’image et vidéo, pour calculer la différence entre 2 images :\n",
        "$$ SAD= \\sum_{i=0}^{16} \\sum_{j=0}^{16}|src(i,j)-ref(i,j)| $$\n",
        "\n",
        "1- Développer la fonction SAD \n",
        "\n",
        "2- Appliquer SAD sur deux images successives de la vidéo akiyo. Soit les images 4 et 5.\n"
      ]
    },
    {
      "cell_type": "code",
      "source": [
        "def sad(im2,im1):\n",
        "    im21=im2.flatten()\n",
        "    im11=im1.flatten()\n",
        "    l=[]\n",
        "    im_size=im21.shape[0]\n",
        "    return (sum(abs(im21-im11)))\n",
        "sad(imref,imsrc)"
      ],
      "metadata": {
        "colab": {
          "base_uri": "https://localhost:8080/"
        },
        "id": "3cx9uIZr6oue",
        "outputId": "a2230f99-cceb-4d29-86c2-5a408f445b77"
      },
      "execution_count": null,
      "outputs": [
        {
          "output_type": "execute_result",
          "data": {
            "text/plain": [
              "673585"
            ]
          },
          "metadata": {},
          "execution_count": 78
        }
      ]
    },
    {
      "cell_type": "markdown",
      "metadata": {
        "id": "Fu3qQlcmkOeP"
      },
      "source": [
        "\n",
        "## C. Principe de prediction Inter \n",
        "1- Appliquer la fonction SAD pour chercher les macroblocks les plus similaires dans toutes l'image.\n",
        "Interpréter.\n",
        "2- La recherche d'un macroblock dans une image est trés couteux en termes de nombre de cycles. Limiter la recherche dans une zone de 3x3 macroblock."
      ]
    },
    {
      "cell_type": "code",
      "execution_count": null,
      "metadata": {
        "id": "UoJRrKFNkOeR"
      },
      "outputs": [],
      "source": [
        "def diff(im2,im1):\n",
        "    l=[]\n",
        "    im21=im2.flatten()\n",
        "    im11=im1.flatten()\n",
        "    bs=16*16\n",
        "    im_size=im21.shape[0]\n",
        "    for i in range(im_size//bs):\n",
        "        l.append(sad(im21[(i)*bs:(i+1)*bs],im11[(i)*bs:(i+1)*bs]))\n",
        "    return l"
      ]
    },
    {
      "cell_type": "code",
      "source": [
        "diff(imref,imsrc).count(0)\n"
      ],
      "metadata": {
        "colab": {
          "base_uri": "https://localhost:8080/"
        },
        "id": "lIqDWHN178b1",
        "outputId": "10a67924-48a3-42bb-bccb-857c69ebe95f"
      },
      "execution_count": null,
      "outputs": [
        {
          "output_type": "execute_result",
          "data": {
            "text/plain": [
              "734"
            ]
          },
          "metadata": {},
          "execution_count": 80
        }
      ]
    }
  ],
  "metadata": {
    "kernelspec": {
      "display_name": "Python 3",
      "language": "python",
      "name": "python3"
    },
    "language_info": {
      "codemirror_mode": {
        "name": "ipython",
        "version": 3
      },
      "file_extension": ".py",
      "mimetype": "text/x-python",
      "name": "python",
      "nbconvert_exporter": "python",
      "pygments_lexer": "ipython3",
      "version": "3.8.3"
    },
    "colab": {
      "provenance": [],
      "include_colab_link": true
    }
  },
  "nbformat": 4,
  "nbformat_minor": 0
}